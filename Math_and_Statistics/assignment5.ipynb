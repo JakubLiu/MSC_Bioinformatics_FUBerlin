{
 "cells": [
  {
   "cell_type": "markdown",
   "id": "170f7bc8",
   "metadata": {},
   "source": [
    "# Problem 2.1. "
   ]
  },
  {
   "cell_type": "markdown",
   "id": "1175c527",
   "metadata": {},
   "source": [
    "Read the sequences of Chlamydia trachomatis and Chlamydia psittaci into R, and compute their\n",
    "GC content. Subsample only the first 50 sequences for each dataset, which we use in all of\n",
    "the following steps. (5%)"
   ]
  },
  {
   "cell_type": "code",
   "execution_count": 1,
   "id": "3f831990",
   "metadata": {},
   "outputs": [],
   "source": [
    "library(data.table)\n",
    "\n",
    "PSI <- fread(\"C:/Users/Qba Liu/Documents/STUDIA/BIOINF_MASTER_BERLIN/SEMESTER_I/FOUNDATIONS_IN_MATH_AND_STATISTICS/LAB/PSI.csv\")\n",
    "TRA <- fread(\"C:/Users/Qba Liu/Documents/STUDIA/BIOINF_MASTER_BERLIN/SEMESTER_I/FOUNDATIONS_IN_MATH_AND_STATISTICS/LAB/TRA.csv\")"
   ]
  },
  {
   "cell_type": "code",
   "execution_count": 2,
   "id": "ffcfa9f2",
   "metadata": {},
   "outputs": [],
   "source": [
    "PSI_sequences <- 1:nrow(PSI)\n",
    "\n",
    "for (i in 1:nrow(PSI)){\n",
    "    PSI_sequences[i] <- PSI[i,2]\n",
    "}\n",
    "\n",
    "TRA_sequences <- 1:nrow(TRA)\n",
    "\n",
    "for (i in 1:nrow(TRA)){\n",
    "    TRA_sequences[i] <- TRA[i,2]\n",
    "}"
   ]
  },
  {
   "cell_type": "code",
   "execution_count": 3,
   "id": "1c77153e",
   "metadata": {},
   "outputs": [],
   "source": [
    "PSI_sequences <- PSI_sequences[1:50]\n",
    "TRA_sequences <- TRA_sequences[1:50]"
   ]
  },
  {
   "cell_type": "code",
   "execution_count": 4,
   "id": "ca5ee73d",
   "metadata": {},
   "outputs": [],
   "source": [
    "GC_content <- function(sequence_in){\n",
    "  GC_content <- 0\n",
    "  \n",
    "  for(bp in sequence_in){\n",
    "    if (bp == \"A\" || bp == \"T\" || bp == \"C\" || bp == \"G\"){\n",
    "      if(bp == \"G\"){GC_content <- GC_content + 1}\n",
    "      else if (bp == \"C\"){GC_content <- GC_content + 1}\n",
    "      else{GC_content <- GC_content}\n",
    "    }\n",
    "  }\n",
    "  seq_in_len <- length(sequence_in)\n",
    "  return(GC_content/seq_in_len)\n",
    "}"
   ]
  },
  {
   "cell_type": "code",
   "execution_count": 5,
   "id": "f8281501",
   "metadata": {},
   "outputs": [],
   "source": [
    "PSI_GC <- 1:length(PSI_sequences)\n",
    "\n",
    "for(i in 1:length(PSI_sequences)){\n",
    "    sequence <- strsplit(as.character(PSI_sequences[i]), \"\")[[1]]\n",
    "    GC <- GC_content(sequence)\n",
    "    PSI_GC[i] <- GC\n",
    "}\n",
    "\n",
    "TRA_GC <- 1:length(TRA_sequences)\n",
    "\n",
    "for(i in 1:length(TRA_sequences)){\n",
    "    sequence <- strsplit(as.character(TRA_sequences[i]), \"\")[[1]]\n",
    "    GC <- GC_content(sequence)\n",
    "    TRA_GC[i] <- GC\n",
    "}"
   ]
  },
  {
   "cell_type": "markdown",
   "id": "f26e3547",
   "metadata": {},
   "source": [
    "# Problem 2.2."
   ]
  },
  {
   "cell_type": "markdown",
   "id": "9648ef43",
   "metadata": {},
   "source": [
    "Build a simple decision tree with a single split based on the GC content on the subsampled data.\n",
    "What is the optimal split and the corresponding classification accuracy? (Hint: this is the same\n",
    "as assignment 4, just on the smaller dataset.) (5%)"
   ]
  },
  {
   "cell_type": "code",
   "execution_count": 6,
   "id": "666245b9",
   "metadata": {},
   "outputs": [],
   "source": [
    "df1 <- data.frame(PSI_GC, rep(1, length(PSI_GC)))\n",
    "colnames(df1) <- c(\"GC_content\", \"Species\")\n",
    "df2 <- data.frame(TRA_GC, rep(0, length(TRA_GC)))\n",
    "colnames(df2) <- colnames(df1)\n",
    "data <- rbind(df1, df2)"
   ]
  },
  {
   "cell_type": "code",
   "execution_count": 7,
   "id": "635f5dc6",
   "metadata": {},
   "outputs": [],
   "source": [
    "Gini <- function(dataset, split_variable_idx, outcome_idx, split_point){\n",
    "  \n",
    "    L <- dataset[dataset[, split_variable_idx] < split_point, ]\n",
    "    R <- dataset[dataset[, split_variable_idx] > split_point, ]\n",
    "    \n",
    "    # number of 0s in L divided by the length of L and squared\n",
    "    L_gini_1 <- (nrow(L[L[, outcome_idx] == 0, ])/nrow(L))^2\n",
    "    # number of 1s in L divided by the length of L and squared\n",
    "    L_gini_2 <- (nrow(L[L[, outcome_idx] == 1, ])/nrow(L))^2\n",
    "    # sum of the above\n",
    "    L_gini <- 1 - (L_gini_1 + L_gini_2)\n",
    "    \n",
    "    # number of os in R divided by the length of R and squared\n",
    "    R_gini_1 <- (nrow(R[R[, outcome_idx] == 0, ])/nrow(R))^2\n",
    "    # number of 1s in R divided by the length of R and sqaured\n",
    "    R_gini_2 <- (nrow(R[R[, outcome_idx] == 1, ])/nrow(R))^2\n",
    "    # sum of the above\n",
    "    R_gini <- 1 - (R_gini_1 + R_gini_2)\n",
    "    \n",
    "    # add the weights\n",
    "    L_gini <- L_gini*(nrow(L)/nrow(dataset))\n",
    "    R_gini <- R_gini*(nrow(R)/nrow(dataset))\n",
    "    # sum of the above\n",
    "    gini_at_split_point <- L_gini + R_gini\n",
    "    \n",
    "    return(gini_at_split_point)\n",
    "  \n",
    "}"
   ]
  },
  {
   "cell_type": "code",
   "execution_count": 8,
   "id": "7cda2220",
   "metadata": {},
   "outputs": [
    {
     "data": {
      "image/png": "[encoded data removed]",
      "text/plain": [
       "plot without title"
      ]
     },
     "metadata": {},
     "output_type": "display_data"
    }
   ],
   "source": [
    "impurity <- c()\n",
    "\n",
    "for(i in 1:100){\n",
    "    res <- Gini(dataset = data, split_variable_idx = 1, outcome_idx = 2, split_point = i/100.00)\n",
    "    impurity <- c(impurity, res)\n",
    "}\n",
    "\n",
    "plot(impurity, xlim = c(10,50), ylim = c(0.1, 0.6), col = \"blue\", xlab = \"GC content (%)\", ylab = \"Gini impurity\")"
   ]
  },
  {
   "cell_type": "code",
   "execution_count": 9,
   "id": "5ec73d35",
   "metadata": {},
   "outputs": [
    {
     "name": "stdout",
     "output_type": "stream",
     "text": [
      "[1] \"0.83 %\"\n"
     ]
    }
   ],
   "source": [
    "data_low <- data[data$GC_content <= 0.4, ]\n",
    "data_high <- data[data$GC_content > 0.4, ]\n",
    "\n",
    "data_low_PSI <- data_low[data_low$Species == 1,]\n",
    "data_high_TRA <- data_high[data_high$Species == 0,]\n",
    "\n",
    "accuracy <- (nrow(data_low_PSI) + nrow(data_high_TRA)) / nrow(data)\n",
    "accuracy <- paste0(accuracy, \" %\")\n",
    "print(accuracy)"
   ]
  },
  {
   "cell_type": "markdown",
   "id": "a1a05e7a",
   "metadata": {},
   "source": [
    "# Problem 2.3."
   ]
  },
  {
   "cell_type": "markdown",
   "id": "86e9cfbb",
   "metadata": {},
   "source": [
    "Build a random forest classifier from 1,000 bootstrap estimators, where each one is a simple de\u0002cision tree as in step 2 (again, only based on the subsampled data). Compute the the aggregated\n",
    "bootstrap function gˆBAG. (20%)\n"
   ]
  },
  {
   "cell_type": "code",
   "execution_count": 10,
   "id": "5a786317",
   "metadata": {},
   "outputs": [],
   "source": [
    "# this function return the probabilty that a sequence with a given GC content belongs to either Trachomatis or Psitacchi\n",
    "# 0 --> 100% Trachomatis\n",
    "# 1 --> 100% Psitacchi\n",
    "\n",
    "random_forest <- function(input_GC, n_trees, data){\n",
    "    predicted_species <- c()\n",
    "    GC <- 15:50\n",
    "    GC <- GC/100\n",
    "    GC_content_threshold <- c()\n",
    "\n",
    "    for (j in 1:n_trees){  # iterate over n_trees (1000) bootstrap samples\n",
    "    \n",
    "            boot <- data[sample(nrow(data),100,replace=TRUE),]\n",
    "            gc <- c()\n",
    "            imp <- c()\n",
    "            best_split_GC <- c()\n",
    "            min_best_GC <- c()\n",
    "\n",
    "            for (i in 1:nrow(boot)){  # iterate over each GC content of the given bootstrap sample to find the best split point\n",
    "                impurity <- Gini(data = boot, split_variable_idx = 1, outcome_idx = 2, split_point = boot[i,1])\n",
    "                gc <- c(gc, boot[i,1])\n",
    "                imp <- c(imp , impurity)\n",
    "                df <- data.frame(gc, imp)\n",
    "                colnames(df) <- c(\"gc\", \"imp\")\n",
    "            }\n",
    "\n",
    "            # this is the gc content which produces the minimum impurity for the given bootstrap sample\n",
    "            best_split_GC <- c(best_split_GC, df[which.max(df$imp),]$gc)\n",
    "            GC_content_threshold <- c(GC_content_threshold, best_split_GC)\n",
    "            GC_content_threshold <- mean(GC_content_threshold)\n",
    "        \n",
    "            # if the input GC content is higher than the calculated GC_content_threshold assign the species Trachomatis\n",
    "            if (input_GC >= GC_content_threshold){predicted_species <- c(predicted_species, 0)}\n",
    "    \n",
    "            # else assign the species Psitacchi\n",
    "            if (input_GC < GC_content_threshold){predicted_species <- c(predicted_species, 1)}\n",
    "\n",
    "    }\n",
    "\n",
    "    # calculate the mean of the predicted species\n",
    "    return(mean(predicted_species))\n",
    "}"
   ]
  },
  {
   "cell_type": "code",
   "execution_count": 11,
   "id": "c94cecbd",
   "metadata": {},
   "outputs": [],
   "source": [
    "# example:\n",
    "#random_forest(input_GC = 0.4, n_trees = 1000)"
   ]
  },
  {
   "cell_type": "code",
   "execution_count": 15,
   "id": "8a99cd73",
   "metadata": {},
   "outputs": [
    {
     "data": {
      "image/png": "[encoded data removed]",
      "text/plain": [
       "plot without title"
      ]
     },
     "metadata": {},
     "output_type": "display_data"
    }
   ],
   "source": [
    "GC_contents <- 15:50\n",
    "GC_contents <- GC_contents/100\n",
    "random_forest_output <- c()\n",
    "\n",
    "for (i in GC_contents){\n",
    "    random_forest_output <- c(random_forest_output, random_forest(input_GC = i, n_trees = 1000, data = data))\n",
    "}\n",
    "\n",
    "plot(GC_contents, random_forest_output, xlab = \"GC content\", ylab = \"Predicted species based on random forest\", col = \"blue\")"
   ]
  },
  {
   "cell_type": "markdown",
   "id": "809ebdb5",
   "metadata": {},
   "source": [
    "# Problem 2.4."
   ]
  },
  {
   "cell_type": "markdown",
   "id": "2629c655",
   "metadata": {},
   "source": [
    "Using 0.5 as the classification threshold, which strain will the random forest classifier predict for\n",
    "a sequence with a 40% GC content? (10%)"
   ]
  },
  {
   "cell_type": "code",
   "execution_count": 13,
   "id": "7bf9c3f2",
   "metadata": {},
   "outputs": [
    {
     "name": "stdout",
     "output_type": "stream",
     "text": [
      "[1] \"Trachomatis\"\n"
     ]
    }
   ],
   "source": [
    "out <- random_forest(input_GC = 0.4, n_trees = 1000, data = data)\n",
    "\n",
    "decision <- \"Trachomatis\"\n",
    "\n",
    "if (out >= 0.5){\n",
    "    decision <- \"Psitacchi\"\n",
    "}\n",
    "\n",
    "print(decision)"
   ]
  },
  {
   "cell_type": "markdown",
   "id": "4af7d070",
   "metadata": {},
   "source": [
    "# Problem 2.5."
   ]
  },
  {
   "cell_type": "markdown",
   "id": "8499d06a",
   "metadata": {},
   "source": [
    "Perform leave-one-out cross-validation to compute the accuracy of the random forest classifier.\n",
    "(10%)"
   ]
  },
  {
   "cell_type": "code",
   "execution_count": 14,
   "id": "28bc1292",
   "metadata": {},
   "outputs": [
    {
     "name": "stdout",
     "output_type": "stream",
     "text": [
      "[1] \"accuracy\"\n",
      "[1] 0.5\n"
     ]
    }
   ],
   "source": [
    "num_correct <- 0\n",
    "\n",
    "for (i in 1:nrow(data)){\n",
    "    train_data <- data[-i,]\n",
    "    species_actual <- data[i,2]\n",
    "    out <- random_forest(input_GC = 0.4, n_trees = 1000, data = train_data)\n",
    "    \n",
    "    if(out >= 0.5){\n",
    "        predicted_species <- 1 # Psitacchi\n",
    "    }\n",
    "    else{\n",
    "        predicted_species <- 0 # Trachomatis\n",
    "    }\n",
    "    \n",
    "    if (predicted_species == species_actual){\n",
    "        num_correct <- num_correct + 1\n",
    "    }\n",
    "}\n",
    "\n",
    "print(\"accuracy\")\n",
    "print(num_correct/nrow(data))"
   ]
  }
 ],
 "metadata": {
  "kernelspec": {
   "display_name": "R",
   "language": "R",
   "name": "ir"
  },
  "language_info": {
   "codemirror_mode": "r",
   "file_extension": ".r",
   "mimetype": "text/x-r-source",
   "name": "R",
   "pygments_lexer": "r",
   "version": "3.6.1"
  }
 },
 "nbformat": 4,
 "nbformat_minor": 5
}
